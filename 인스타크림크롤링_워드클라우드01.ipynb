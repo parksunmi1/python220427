{
 "cells": [
  {
   "cell_type": "markdown",
   "metadata": {},
   "source": [
    "# 5.2 워드클라우드"
   ]
  },
  {
   "cell_type": "markdown",
   "metadata": {},
   "source": [
    "### 5.2.2 해시태그 데이터 불러오기"
   ]
  },
  {
   "cell_type": "code",
   "execution_count": 3,
   "metadata": {
    "scrolled": true
   },
   "outputs": [
    {
     "data": {
      "text/plain": [
       "0                                                   []\n",
       "1    ['#제주선채향', '#선채향>⠀요즘', '#제주선채향', '#제주선채향◾️', '...\n",
       "2                                                   []\n",
       "Name: tags, dtype: object"
      ]
     },
     "execution_count": 3,
     "metadata": {},
     "output_type": "execute_result"
    }
   ],
   "source": [
    "# 예제 5-14 크롤링 결과 중 해시태그 데이터 불러오기\n",
    "import pandas as pd\n",
    "raw_total = pd.read_excel('c:/work2/1_crawling_raw.xlsx')\n",
    "raw_total['tags'] [:3]"
   ]
  },
  {
   "cell_type": "code",
   "execution_count": 4,
   "metadata": {},
   "outputs": [],
   "source": [
    "# 예제 5-15 해시태그 통합 저장하기\n",
    "tags_total = []\n",
    "\n",
    "for tags in raw_total['tags']:\n",
    "    tags_list = tags[2:-2].split(\"', '\")\n",
    "    for tag in tags_list:\n",
    "        tags_total.append(tag)"
   ]
  },
  {
   "cell_type": "markdown",
   "metadata": {},
   "source": [
    "### 5.2.3 해시태그 출현 빈도 집계"
   ]
  },
  {
   "cell_type": "code",
   "execution_count": 5,
   "metadata": {},
   "outputs": [],
   "source": [
    "# 예제 5-16 빈도수 집계하기(Counter)\n",
    "from collections import Counter\n",
    "tag_counts = Counter(tags_total)"
   ]
  },
  {
   "cell_type": "code",
   "execution_count": 6,
   "metadata": {
    "scrolled": true
   },
   "outputs": [
    {
     "data": {
      "text/plain": [
       "[('#제주맛집', 2892),\n",
       " ('#제주여행', 2830),\n",
       " ('#제주관광', 2827),\n",
       " ('#제주도맛집', 1748),\n",
       " ('#제주도', 1697),\n",
       " ('#제주', 1399),\n",
       " ('#제주도여행', 1116),\n",
       " ('#서귀포맛집', 1048),\n",
       " ('#서귀포', 791),\n",
       " ('#제주도가볼만한곳', 697),\n",
       " ('#제주핫플레이스', 693),\n",
       " ('#jeju', 683),\n",
       " ('#일상', 541),\n",
       " ('#제주도민', 528),\n",
       " ('#제주카페', 515),\n",
       " ('#제주맛집추천', 504),\n",
       " ('#협재맛집', 500),\n",
       " ('', 479),\n",
       " ('#성산일출봉', 470),\n",
       " ('#제주흑돼지맛집', 469),\n",
       " ('#제주핫플', 466),\n",
       " ('#제주도그램', 452),\n",
       " ('#제주살이', 451),\n",
       " ('#제주도흑돼지맛집', 445),\n",
       " ('#제주도흑돼지', 445),\n",
       " ('#제주반영구', 439),\n",
       " ('#제주도관광', 439),\n",
       " ('#제주가볼만한곳', 434),\n",
       " ('#제주눈썹문신', 433),\n",
       " ('#선팔', 427),\n",
       " ('#서귀포눈썹문신', 419),\n",
       " ('#제주시', 415),\n",
       " ('#여행스타그램', 412),\n",
       " ('#눈썹문신', 400),\n",
       " ('#제주흑돼지', 400),\n",
       " ('#반영구', 399),\n",
       " ('#섭지코지', 397),\n",
       " ('#제주자연눈썹', 396),\n",
       " ('#제주속눈썹', 396),\n",
       " ('#서귀포남자눈썹문신', 394),\n",
       " ('#서귀포자연눈썹', 394),\n",
       " ('#제주남자눈썹문신', 394),\n",
       " ('#서귀포속눈썹', 394),\n",
       " ('#서귀포반영구', 394),\n",
       " ('#서귀포흑돼지맛집', 376),\n",
       " ('#성산일출봉맛집', 374),\n",
       " ('#여행', 371),\n",
       " ('#서귀포흑돼지', 366),\n",
       " ('#제주메이크업', 358),\n",
       " ('#섭지코지맛집', 357)]"
      ]
     },
     "execution_count": 6,
     "metadata": {},
     "output_type": "execute_result"
    }
   ],
   "source": [
    "# 예제 5-17 가장 많이 사용된 해시태그 살펴보기 \n",
    "tag_counts.most_common(50)"
   ]
  },
  {
   "cell_type": "code",
   "execution_count": 7,
   "metadata": {},
   "outputs": [
    {
     "data": {
      "text/plain": [
       "[('#제주맛집', 2892),\n",
       " ('#제주여행', 2830),\n",
       " ('#제주관광', 2827),\n",
       " ('#제주도맛집', 1748),\n",
       " ('#제주', 1399),\n",
       " ('#제주도여행', 1116),\n",
       " ('#서귀포맛집', 1048),\n",
       " ('#서귀포', 791),\n",
       " ('#제주도가볼만한곳', 697),\n",
       " ('#제주핫플레이스', 693),\n",
       " ('#제주도민', 528),\n",
       " ('#제주카페', 515),\n",
       " ('#제주맛집추천', 504),\n",
       " ('#협재맛집', 500),\n",
       " ('', 479),\n",
       " ('#성산일출봉', 470),\n",
       " ('#제주흑돼지맛집', 469),\n",
       " ('#제주핫플', 466),\n",
       " ('#제주도그램', 452),\n",
       " ('#제주살이', 451),\n",
       " ('#제주도흑돼지맛집', 445),\n",
       " ('#제주도흑돼지', 445),\n",
       " ('#제주반영구', 439),\n",
       " ('#제주도관광', 439),\n",
       " ('#제주가볼만한곳', 434),\n",
       " ('#제주시', 415),\n",
       " ('#여행스타그램', 412),\n",
       " ('#눈썹문신', 400),\n",
       " ('#제주흑돼지', 400),\n",
       " ('#섭지코지', 397),\n",
       " ('#제주속눈썹', 396),\n",
       " ('#서귀포남자눈썹문신', 394),\n",
       " ('#서귀포자연눈썹', 394),\n",
       " ('#제주남자눈썹문신', 394),\n",
       " ('#서귀포속눈썹', 394),\n",
       " ('#서귀포반영구', 394),\n",
       " ('#서귀포흑돼지맛집', 376),\n",
       " ('#성산일출봉맛집', 374),\n",
       " ('#여행', 371),\n",
       " ('#서귀포흑돼지', 366),\n",
       " ('#제주메이크업', 358),\n",
       " ('#섭지코지맛집', 357),\n",
       " ('#제주스타그램', 332),\n",
       " ('#제주서귀포맛집', 331),\n",
       " ('#제주도민맛집', 330),\n",
       " ('#제주통갈치구이', 330),\n",
       " ('#통갈치구이', 329),\n",
       " ('#카멜리아힐', 328),\n",
       " ('#제주일상', 327),\n",
       " ('#애월맛집', 315)]"
      ]
     },
     "execution_count": 7,
     "metadata": {},
     "output_type": "execute_result"
    }
   ],
   "source": [
    "# 예제 5-18 데이터 정제하기\n",
    "STOPWORDS = ['#일상', '#선팔', '#제주도', '#jeju', '#반영구', '#제주자연눈썹',\n",
    "'#서귀포눈썹문신', '#제주눈썹문신', '#소통', '#맞팔']\n",
    "\n",
    "tag_total_selected = []\n",
    "for tag in tags_total:\n",
    "    if tag not in STOPWORDS:\n",
    "        tag_total_selected.append(tag)\n",
    "        \n",
    "tag_counts_selected = Counter(tag_total_selected)\n",
    "tag_counts_selected.most_common(50)\n"
   ]
  },
  {
   "cell_type": "markdown",
   "metadata": {},
   "source": [
    "### 5.2.4 막대차트로 해시태그 살펴보기"
   ]
  },
  {
   "cell_type": "code",
   "execution_count": 8,
   "metadata": {},
   "outputs": [],
   "source": [
    "# 예제 5-19 시각화 라이브러리 호출 및 환경 설정(한글 폰트)\n",
    "import matplotlib.pyplot as plt\n",
    "import seaborn as sns\n",
    "from matplotlib import font_manager, rc\n",
    "import sys\n",
    "\n",
    "if sys.platform in [\"win32\", \"win64\"]:\n",
    "    font_name = \"malgun gothic\"\n",
    "elif sys.platform == \"darwin\":\n",
    "    font_name = \"AppleGothic\"\n",
    "\n",
    "rc('font',family=font_name)\n"
   ]
  },
  {
   "cell_type": "code",
   "execution_count": 9,
   "metadata": {},
   "outputs": [],
   "source": [
    "# 예제 5-20 데이터 준비하기\n",
    "tag_counts_df = pd.DataFrame(tag_counts_selected.most_common(30))\n",
    "tag_counts_df.columns = ['tags', 'counts']"
   ]
  },
  {
   "cell_type": "code",
   "execution_count": 10,
   "metadata": {},
   "outputs": [
    {
     "data": {
      "text/plain": [
       "<AxesSubplot:xlabel='counts', ylabel='tags'>"
      ]
     },
     "execution_count": 10,
     "metadata": {},
     "output_type": "execute_result"
    },
    {
     "data": {
      "image/png": "[encoded data removed]",
      "text/plain": [
       "<Figure size 720x576 with 1 Axes>"
      ]
     },
     "metadata": {
      "needs_background": "light"
     },
     "output_type": "display_data"
    }
   ],
   "source": [
    "# 예제 5-21 막대 차트 그리기\n",
    "plt.figure(figsize=(10,8)) \n",
    "sns.barplot(x='counts', y='tags', data = tag_counts_df)"
   ]
  },
  {
   "cell_type": "markdown",
   "metadata": {},
   "source": [
    "### 5.2.5 워드 클라우드 그리기"
   ]
  },
  {
   "cell_type": "code",
   "execution_count": 11,
   "metadata": {},
   "outputs": [
    {
     "ename": "ModuleNotFoundError",
     "evalue": "No module named 'wordcloud'",
     "output_type": "error",
     "traceback": [
      "\u001b[1;31m---------------------------------------------------------------------------\u001b[0m",
      "\u001b[1;31mModuleNotFoundError\u001b[0m                       Traceback (most recent call last)",
      "\u001b[1;32mc:\\work2\\인스타크림크롤링_워드클라우드01.ipynb Cell 14'\u001b[0m in \u001b[0;36m<cell line: 3>\u001b[1;34m()\u001b[0m\n\u001b[0;32m      <a href='vscode-notebook-cell:/c%3A/work2/%EC%9D%B8%EC%8A%A4%ED%83%80%ED%81%AC%EB%A6%BC%ED%81%AC%EB%A1%A4%EB%A7%81_%EC%9B%8C%EB%93%9C%ED%81%B4%EB%9D%BC%EC%9A%B0%EB%93%9C01.ipynb#ch0000013?line=0'>1</a>\u001b[0m \u001b[39m# 예제 5-22 워드클라우드 라이브러리 불러오기\u001b[39;00m\n\u001b[0;32m      <a href='vscode-notebook-cell:/c%3A/work2/%EC%9D%B8%EC%8A%A4%ED%83%80%ED%81%AC%EB%A6%BC%ED%81%AC%EB%A1%A4%EB%A7%81_%EC%9B%8C%EB%93%9C%ED%81%B4%EB%9D%BC%EC%9A%B0%EB%93%9C01.ipynb#ch0000013?line=1'>2</a>\u001b[0m \u001b[39mimport\u001b[39;00m \u001b[39mmatplotlib\u001b[39;00m\u001b[39m.\u001b[39;00m\u001b[39mpyplot\u001b[39;00m \u001b[39mas\u001b[39;00m \u001b[39mplt\u001b[39;00m\n\u001b[1;32m----> <a href='vscode-notebook-cell:/c%3A/work2/%EC%9D%B8%EC%8A%A4%ED%83%80%ED%81%AC%EB%A6%BC%ED%81%AC%EB%A1%A4%EB%A7%81_%EC%9B%8C%EB%93%9C%ED%81%B4%EB%9D%BC%EC%9A%B0%EB%93%9C01.ipynb#ch0000013?line=2'>3</a>\u001b[0m \u001b[39mfrom\u001b[39;00m \u001b[39mwordcloud\u001b[39;00m \u001b[39mimport\u001b[39;00m WordCloud    \u001b[39m# 에러시  ! pip install wordcloud 실행\u001b[39;00m\n\u001b[0;32m      <a href='vscode-notebook-cell:/c%3A/work2/%EC%9D%B8%EC%8A%A4%ED%83%80%ED%81%AC%EB%A6%BC%ED%81%AC%EB%A1%A4%EB%A7%81_%EC%9B%8C%EB%93%9C%ED%81%B4%EB%9D%BC%EC%9A%B0%EB%93%9C01.ipynb#ch0000013?line=3'>4</a>\u001b[0m \u001b[39mimport\u001b[39;00m \u001b[39mplatform\u001b[39;00m\n\u001b[0;32m      <a href='vscode-notebook-cell:/c%3A/work2/%EC%9D%B8%EC%8A%A4%ED%83%80%ED%81%AC%EB%A6%BC%ED%81%AC%EB%A1%A4%EB%A7%81_%EC%9B%8C%EB%93%9C%ED%81%B4%EB%9D%BC%EC%9A%B0%EB%93%9C01.ipynb#ch0000013?line=5'>6</a>\u001b[0m \u001b[39mif\u001b[39;00m platform\u001b[39m.\u001b[39msystem() \u001b[39m==\u001b[39m \u001b[39m'\u001b[39m\u001b[39mWindows\u001b[39m\u001b[39m'\u001b[39m:   \u001b[39m#윈도우의 경우\u001b[39;00m\n",
      "\u001b[1;31mModuleNotFoundError\u001b[0m: No module named 'wordcloud'"
     ]
    }
   ],
   "source": [
    "# 예제 5-22 워드클라우드 라이브러리 불러오기\n",
    "import matplotlib.pyplot as plt\n",
    "from wordcloud import WordCloud    # 에러시  ! pip install wordcloud 실행\n",
    "import platform\n",
    "\n",
    "if platform.system() == 'Windows':   #윈도우의 경우\n",
    "    font_path = \"c:/Windows/Fonts/malgun.ttf\"\n",
    "elif platform.system() == \"Darwin\":   #Mac 의 경우\n",
    "    font_path = \"/Users/$USER/Library/Fonts/AppleGothic.ttf\"\n"
   ]
  },
  {
   "cell_type": "code",
   "execution_count": 12,
   "metadata": {},
   "outputs": [
    {
     "ename": "NameError",
     "evalue": "name 'WordCloud' is not defined",
     "output_type": "error",
     "traceback": [
      "\u001b[1;31m---------------------------------------------------------------------------\u001b[0m",
      "\u001b[1;31mNameError\u001b[0m                                 Traceback (most recent call last)",
      "\u001b[1;32mc:\\work2\\인스타크림크롤링_워드클라우드01.ipynb Cell 15'\u001b[0m in \u001b[0;36m<cell line: 2>\u001b[1;34m()\u001b[0m\n\u001b[0;32m      <a href='vscode-notebook-cell:/c%3A/work2/%EC%9D%B8%EC%8A%A4%ED%83%80%ED%81%AC%EB%A6%BC%ED%81%AC%EB%A1%A4%EB%A7%81_%EC%9B%8C%EB%93%9C%ED%81%B4%EB%9D%BC%EC%9A%B0%EB%93%9C01.ipynb#ch0000014?line=0'>1</a>\u001b[0m \u001b[39m# 예제 5-23 워드클라우드 만들기\u001b[39;00m\n\u001b[1;32m----> <a href='vscode-notebook-cell:/c%3A/work2/%EC%9D%B8%EC%8A%A4%ED%83%80%ED%81%AC%EB%A6%BC%ED%81%AC%EB%A1%A4%EB%A7%81_%EC%9B%8C%EB%93%9C%ED%81%B4%EB%9D%BC%EC%9A%B0%EB%93%9C01.ipynb#ch0000014?line=1'>2</a>\u001b[0m wordcloud\u001b[39m=\u001b[39mWordCloud(font_path\u001b[39m=\u001b[39m font_path, \n\u001b[0;32m      <a href='vscode-notebook-cell:/c%3A/work2/%EC%9D%B8%EC%8A%A4%ED%83%80%ED%81%AC%EB%A6%BC%ED%81%AC%EB%A1%A4%EB%A7%81_%EC%9B%8C%EB%93%9C%ED%81%B4%EB%9D%BC%EC%9A%B0%EB%93%9C01.ipynb#ch0000014?line=2'>3</a>\u001b[0m                     background_color\u001b[39m=\u001b[39m\u001b[39m\"\u001b[39m\u001b[39mwhite\u001b[39m\u001b[39m\"\u001b[39m,\n\u001b[0;32m      <a href='vscode-notebook-cell:/c%3A/work2/%EC%9D%B8%EC%8A%A4%ED%83%80%ED%81%AC%EB%A6%BC%ED%81%AC%EB%A1%A4%EB%A7%81_%EC%9B%8C%EB%93%9C%ED%81%B4%EB%9D%BC%EC%9A%B0%EB%93%9C01.ipynb#ch0000014?line=3'>4</a>\u001b[0m                     max_words\u001b[39m=\u001b[39m\u001b[39m100\u001b[39m,\n\u001b[0;32m      <a href='vscode-notebook-cell:/c%3A/work2/%EC%9D%B8%EC%8A%A4%ED%83%80%ED%81%AC%EB%A6%BC%ED%81%AC%EB%A1%A4%EB%A7%81_%EC%9B%8C%EB%93%9C%ED%81%B4%EB%9D%BC%EC%9A%B0%EB%93%9C01.ipynb#ch0000014?line=4'>5</a>\u001b[0m                     relative_scaling\u001b[39m=\u001b[39m \u001b[39m0.3\u001b[39m,\n\u001b[0;32m      <a href='vscode-notebook-cell:/c%3A/work2/%EC%9D%B8%EC%8A%A4%ED%83%80%ED%81%AC%EB%A6%BC%ED%81%AC%EB%A1%A4%EB%A7%81_%EC%9B%8C%EB%93%9C%ED%81%B4%EB%9D%BC%EC%9A%B0%EB%93%9C01.ipynb#ch0000014?line=5'>6</a>\u001b[0m                     width \u001b[39m=\u001b[39m \u001b[39m800\u001b[39m,\n\u001b[0;32m      <a href='vscode-notebook-cell:/c%3A/work2/%EC%9D%B8%EC%8A%A4%ED%83%80%ED%81%AC%EB%A6%BC%ED%81%AC%EB%A1%A4%EB%A7%81_%EC%9B%8C%EB%93%9C%ED%81%B4%EB%9D%BC%EC%9A%B0%EB%93%9C01.ipynb#ch0000014?line=6'>7</a>\u001b[0m                     height \u001b[39m=\u001b[39m \u001b[39m400\u001b[39m\n\u001b[0;32m      <a href='vscode-notebook-cell:/c%3A/work2/%EC%9D%B8%EC%8A%A4%ED%83%80%ED%81%AC%EB%A6%BC%ED%81%AC%EB%A1%A4%EB%A7%81_%EC%9B%8C%EB%93%9C%ED%81%B4%EB%9D%BC%EC%9A%B0%EB%93%9C01.ipynb#ch0000014?line=7'>8</a>\u001b[0m                  )\u001b[39m.\u001b[39mgenerate_from_frequencies(tag_counts_selected)  \n\u001b[0;32m      <a href='vscode-notebook-cell:/c%3A/work2/%EC%9D%B8%EC%8A%A4%ED%83%80%ED%81%AC%EB%A6%BC%ED%81%AC%EB%A1%A4%EB%A7%81_%EC%9B%8C%EB%93%9C%ED%81%B4%EB%9D%BC%EC%9A%B0%EB%93%9C01.ipynb#ch0000014?line=8'>9</a>\u001b[0m plt\u001b[39m.\u001b[39mfigure(figsize\u001b[39m=\u001b[39m(\u001b[39m15\u001b[39m,\u001b[39m10\u001b[39m))\n\u001b[0;32m     <a href='vscode-notebook-cell:/c%3A/work2/%EC%9D%B8%EC%8A%A4%ED%83%80%ED%81%AC%EB%A6%BC%ED%81%AC%EB%A1%A4%EB%A7%81_%EC%9B%8C%EB%93%9C%ED%81%B4%EB%9D%BC%EC%9A%B0%EB%93%9C01.ipynb#ch0000014?line=9'>10</a>\u001b[0m plt\u001b[39m.\u001b[39mimshow(wordcloud)\n",
      "\u001b[1;31mNameError\u001b[0m: name 'WordCloud' is not defined"
     ]
    }
   ],
   "source": [
    "# 예제 5-23 워드클라우드 만들기\n",
    "wordcloud=WordCloud(font_path= font_path, \n",
    "                    background_color=\"white\",\n",
    "                    max_words=100,\n",
    "                    relative_scaling= 0.3,\n",
    "                    width = 800,\n",
    "                    height = 400\n",
    "                 ).generate_from_frequencies(tag_counts_selected)  \n",
    "plt.figure(figsize=(15,10))\n",
    "plt.imshow(wordcloud)\n",
    "plt.axis('off')\n",
    "plt.savefig('./files/2_tag-wordcloud.png')  "
   ]
  },
  {
   "cell_type": "code",
   "execution_count": null,
   "metadata": {},
   "outputs": [],
   "source": []
  }
 ],
 "metadata": {
  "interpreter": {
   "hash": "63fd5069d213b44bf678585dea6b12cceca9941eaf7f819626cde1f2670de90d"
  },
  "kernelspec": {
   "display_name": "Python 3.8.10 32-bit",
   "language": "python",
   "name": "python3"
  },
  "language_info": {
   "codemirror_mode": {
    "name": "ipython",
    "version": 3
   },
   "file_extension": ".py",
   "mimetype": "text/x-python",
   "name": "python",
   "nbconvert_exporter": "python",
   "pygments_lexer": "ipython3",
   "version": "3.9.10"
  },
  "metadata": {
   "interpreter": {
    "hash": "2db524e06e9f5f4ffedc911c917cb75e12dbc923643829bf417064a77eb14d37"
   }
  }
 },
 "nbformat": 4,
 "nbformat_minor": 2
}
